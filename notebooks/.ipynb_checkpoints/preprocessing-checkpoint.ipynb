{
 "cells": [
  {
   "cell_type": "code",
   "execution_count": null,
   "id": "8b01981e-f70e-496f-a429-373636eb18de",
   "metadata": {},
   "outputs": [],
   "source": [
    "import pandas as pd\n",
    "from pathlib import Path\n",
    "\n",
    "\n",
    "PROJECT_ROOT = Path.cwd().parent\n",
    "DATA_DIR     = PROJECT_ROOT / \"data\"\n",
    "OUTPUT_DIR   = PROJECT_ROOT / \"preprocessed_data\"\n",
    "\n",
    "\n",
    "OUTPUT_DIR.mkdir(exist_ok=True)\n",
    "\n",
    "FILE_PATHS = {\n",
    "    \"ks_projects_2016_12\": DATA_DIR / \"ks-projects-201612.csv\",\n",
    "    \"ks_projects_2018_01\": DATA_DIR / \"ks-projects-201801.csv\",\n",
    "    \"live_campaigns\":      DATA_DIR / \"live.csv\",\n",
    "    \"most_backed\":         DATA_DIR / \"most_backed.csv\",\n",
    "}\n",
    "\n",
    "# Quick existence check\n",
    "for name, path in FILE_PATHS.items():\n",
    "    status = \"FOUND\" if path.exists() else \"MISSING\"\n",
    "    print(f\"{name:<20} → {status}\")\n"
   ]
  },
  {
   "cell_type": "code",
   "execution_count": null,
   "id": "038425c9",
   "metadata": {},
   "outputs": [],
   "source": [
    "def preprocess_df(df: pd.DataFrame) -> pd.DataFrame:\n",
    "    # 1) normalize column names\n",
    "    df.columns = (\n",
    "        df.columns\n",
    "          .str.strip()\n",
    "          .str.lower()\n",
    "          .str.replace(\" \", \"_\", regex=False)\n",
    "    )\n",
    "    # 2) drop exact duplicates on id\n",
    "    if \"id\" in df.columns:\n",
    "        df = df.drop_duplicates(subset=\"id\")\n",
    "    # 3) parse timestamps & compute duration\n",
    "    if {\"deadline\", \"launched_at\"}.issubset(df.columns):\n",
    "        df[\"deadline\"]    = pd.to_datetime(df[\"deadline\"],    unit=\"s\", errors=\"coerce\")\n",
    "        df[\"launched_at\"] = pd.to_datetime(df[\"launched_at\"], unit=\"s\", errors=\"coerce\")\n",
    "        df[\"campaign_duration_days\"] = (df[\"deadline\"] - df[\"launched_at\"]).dt.days\n",
    "    # 4) convert key financial columns to numeric\n",
    "    for col in [\"goal\", \"pledged\", \"usd_goal_real\", \"usd_pledged_real\"]:\n",
    "        if col in df.columns:\n",
    "            df[col] = pd.to_numeric(df[col], errors=\"coerce\")\n",
    "    # 5) drop columns with >90% missing\n",
    "    threshold = int(len(df) * 0.10)\n",
    "    df = df.dropna(axis=1, thresh=threshold)\n",
    "    # 6) impute remaining missings\n",
    "    for col in df.columns:\n",
    "        if df[col].dtype.kind in \"biufc\":  # numeric\n",
    "            df[col].fillna(df[col].median(), inplace=True)\n",
    "        else:                             # categorical/text\n",
    "            mode = df[col].mode()\n",
    "            df[col].fillna(mode.iloc[0] if not mode.empty else \"\", inplace=True)\n",
    "    return df\n"
   ]
  },
  {
   "cell_type": "code",
   "execution_count": null,
   "id": "7dc146e1",
   "metadata": {},
   "outputs": [],
   "source": [
    "for name, path in FILE_PATHS.items():\n",
    "    print(f\"Processing {name}…\")\n",
    "    if not path.exists():\n",
    "        print(f\"  ERROR: file not found at {path}\")\n",
    "        continue\n",
    "\n",
    "    raw = pd.read_csv(path, encoding=\"latin1\", low_memory=False)\n",
    "    print(f\"  raw shape:   {raw.shape}\")\n",
    "\n",
    "    clean = preprocess_df(raw)\n",
    "    print(f\"  clean shape: {clean.shape}\")\n",
    "    display(clean.head())\n",
    "\n",
    "    out_path = OUTPUT_DIR / f\"{name}_clean.csv\"\n",
    "    clean.to_csv(out_path, index=False)\n",
    "    print(f\"  saved to    {out_path}\\n\")\n"
   ]
  }
 ],
 "metadata": {
  "kernelspec": {
   "display_name": "Python 3 (ipykernel)",
   "language": "python",
   "name": "python3"
  },
  "language_info": {
   "codemirror_mode": {
    "name": "ipython",
    "version": 3
   },
   "file_extension": ".py",
   "mimetype": "text/x-python",
   "name": "python",
   "nbconvert_exporter": "python",
   "pygments_lexer": "ipython3",
   "version": "3.13.2"
  }
 },
 "nbformat": 4,
 "nbformat_minor": 5
}
