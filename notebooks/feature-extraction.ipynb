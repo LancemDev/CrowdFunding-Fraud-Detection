{
 "cells": [
  {
   "cell_type": "code",
   "execution_count": 3,
   "id": "70c65a17",
   "metadata": {},
   "outputs": [],
   "source": [
    "# Imports\n",
    "import pandas as pd\n",
    "import numpy as np\n",
    "from pathlib import Path\n",
    "\n",
    "from sklearn.feature_extraction.text import TfidfVectorizer\n",
    "from sklearn.decomposition        import TruncatedSVD\n",
    "from sentence_transformers        import SentenceTransformer\n",
    "from sklearn.preprocessing       import OneHotEncoder, StandardScaler\n",
    "from scipy.sparse                import hstack, csr_matrix\n"
   ]
  },
  {
   "cell_type": "code",
   "execution_count": 4,
   "id": "d82e793b",
   "metadata": {},
   "outputs": [],
   "source": [
    "# Configuration & Model Initialization\n",
    "\n",
    "# Paths\n",
    "PROJECT_ROOT   = Path.cwd().parent\n",
    "CLEAN_DIR      = PROJECT_ROOT / \"preprocessed_data\"\n",
    "OUT_DIR        = PROJECT_ROOT / \"feature_matrices\"\n",
    "OUT_DIR.mkdir(exist_ok=True)\n",
    "\n",
    "# Feature settings\n",
    "TFIDF_MAX_FEAT = 10_000\n",
    "TFIDF_NGRAMS   = (1, 2)\n",
    "SVD_COMPONENTS = 300\n",
    "EMBED_MODEL    = \"all-MiniLM-L6-v2\"\n",
    "\n",
    "NUM_COLS = [\n",
    "    \"goal\",\n",
    "    \"pledged\",\n",
    "    \"usd_goal_real\",\n",
    "    \"usd_pledged_real\",\n",
    "    \"campaign_duration_days\",\n",
    "]\n",
    "CAT_COLS = [\"main_category\", \"state\"]\n",
    "\n",
    "# Instantiate transformers\n",
    "tfidf    = TfidfVectorizer(max_features=TFIDF_MAX_FEAT,\n",
    "                           ngram_range=TFIDF_NGRAMS,\n",
    "                           stop_words=\"english\")\n",
    "svd      = TruncatedSVD(n_components=SVD_COMPONENTS, random_state=42)\n",
    "embedder = SentenceTransformer(EMBED_MODEL)\n",
    "scaler   = StandardScaler()\n",
    "#  Use `sparse_output=True` instead of `sparse=True`\n",
    "ohe      = OneHotEncoder(handle_unknown=\"ignore\", sparse_output=True)\n"
   ]
  },
  {
   "cell_type": "code",
   "execution_count": 6,
   "id": "c1017222-73c8-4240-81be-a9ebb80654e2",
   "metadata": {},
   "outputs": [
    {
     "name": "stdout",
     "output_type": "stream",
     "text": [
      "All columns: ['id', 'name', 'category', 'main_category', 'currency', 'deadline', 'goal', 'launched', 'pledged', 'state', 'backers', 'country', 'usd_pledged']\n",
      "Numeric columns detected: ['goal', 'pledged']\n",
      "Categorical columns detected: ['category', 'main_category', 'currency', 'deadline', 'launched', 'state', 'backers', 'country', 'usd_pledged']\n",
      "  • Numeric matrix shape: (323750, 2)\n",
      "  • Categorical matrix shape: (323750, 717078)\n"
     ]
    }
   ],
   "source": [
    "# Automatic Numeric & Categorical Selection\n",
    "\n",
    "import pandas as pd\n",
    "from scipy.sparse import csr_matrix\n",
    "\n",
    "# Inspect loaded df columns\n",
    "print(\"All columns:\", df.columns.tolist())\n",
    "\n",
    "# 1) Identify text column we vectorized\n",
    "text_col = \"blurb\" if \"blurb\" in df.columns else \"name\"\n",
    "\n",
    "# 2) Numeric columns: any pandas numeric dtype, except 'id'\n",
    "num_cols = [\n",
    "    c for c in df.select_dtypes(include=[\"number\"]).columns\n",
    "    if c not in (\"id\",)\n",
    "]\n",
    "print(\"Numeric columns detected:\", num_cols)\n",
    "\n",
    "# 3) Categorical columns: any object dtype, excluding the text_col\n",
    "cat_cols = [\n",
    "    c for c in df.select_dtypes(include=[\"object\"]).columns\n",
    "    if c != text_col\n",
    "]\n",
    "print(\"Categorical columns detected:\", cat_cols)\n",
    "\n",
    "# 4) Scale numerics\n",
    "if num_cols:\n",
    "    X_num = scaler.fit_transform(df[num_cols])\n",
    "    print(\"  • Numeric matrix shape:\", X_num.shape)\n",
    "else:\n",
    "    X_num = np.empty((len(df), 0))\n",
    "    print(\"  • No numeric columns.\")\n",
    "\n",
    "# 5) One-hot encode categoricals\n",
    "if cat_cols:\n",
    "    X_cat = ohe.fit_transform(df[cat_cols])\n",
    "    print(\"  • Categorical matrix shape:\", X_cat.shape)\n",
    "else:\n",
    "    X_cat = csr_matrix((len(df), 0))\n",
    "    print(\"  • No categorical columns.\")\n"
   ]
  },
  {
   "cell_type": "code",
   "execution_count": 7,
   "id": "b9c2e2c6",
   "metadata": {},
   "outputs": [
    {
     "name": "stdout",
     "output_type": "stream",
     "text": [
      "Combined feature matrix shape: (323750, 717764)\n"
     ]
    }
   ],
   "source": [
    "# Combine SVD, Embeddings, Numeric & Categorical into X_all\n",
    "\n",
    "# 1) Sparse block: SVD components (dense→sparse) + one-hot cats\n",
    "X_sparse = hstack([csr_matrix(X_svd), X_cat]).tocsr()\n",
    "\n",
    "# 2) Dense block: numeric + embeddings → convert to sparse\n",
    "X_dense_sparse = csr_matrix(np.hstack([X_num, X_emb]))\n",
    "\n",
    "# 3) Final concatenation\n",
    "X_all = hstack([X_sparse, X_dense_sparse]).tocsr()\n",
    "print(\"Combined feature matrix shape:\", X_all.shape)\n"
   ]
  },
  {
   "cell_type": "code",
   "execution_count": null,
   "id": "7ffed9d2-38ce-40e7-9dba-dfa7d46b43b7",
   "metadata": {},
   "outputs": [],
   "source": []
  }
 ],
 "metadata": {
  "kernelspec": {
   "display_name": "Python (env)",
   "language": "python",
   "name": "env"
  },
  "language_info": {
   "codemirror_mode": {
    "name": "ipython",
    "version": 3
   },
   "file_extension": ".py",
   "mimetype": "text/x-python",
   "name": "python",
   "nbconvert_exporter": "python",
   "pygments_lexer": "ipython3",
   "version": "3.13.2"
  }
 },
 "nbformat": 4,
 "nbformat_minor": 5
}
